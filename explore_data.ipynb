{
 "cells": [
  {
   "cell_type": "markdown",
   "metadata": {},
   "source": [
    "# explore the extended kalman filter data"
   ]
  },
  {
   "cell_type": "markdown",
   "metadata": {},
   "source": [
    "````\n",
    "Data Flow:\n",
    "1) The measuremennt processor/matlab simulator is generating the FUSION .txt file:\n",
    "\t\"data/obj_pose-laser-radar-synthetic-ukf-input.txt\";\n",
    "\tOR\n",
    "\t\"../matlab_examples/obj_pose-laser-radar-synthetic-ukf-input.txt\";\n",
    "\n",
    "The Input file format is:\n",
    "#L(for laser) meas_px meas_py timestamp gt_px gt_py gt_vx gt_vy\n",
    "#R(for radar) meas_rho meas_phi meas_rho_dot timestamp gt_px gt_py gt_vx gt_vy\n",
    "\n",
    "Example:\n",
    "R\t8.60363\t0.0290616\t-2.99903\t1477010443399637\t8.6\t0.25\t-3.00029\t0\n",
    "L\t8.45\t0.25\t1477010443349642\t8.45\t0.25\t-3.00027\t0\n",
    "\t\n",
    "2) The EKF Algorithm reads form file reads all the lines and generates measurement structures\n",
    "3) The MeasurementProcessor() is called with individual measurements (one by one). The results are saved\n",
    "(Attention: no file processing routines are used inside MeasurementProcessor() all the file processing routines are in the main function\n",
    "So the data read/write is decoupled from the algorithm\n",
    "4) The results are saved in an output file:\n",
    "\"data/obj_pose-laser-radar-ekf-output.txt\"\n",
    "\n",
    "Output file format:\n",
    "est_px est_py est_vx est_vy meas_px meas_py gt_px gt_py gt_vx gt_vy\n",
    "\n",
    "Example:\n",
    "4.53271\t0.279\t-0.842172\t53.1339\t4.29136\t0.215312\t2.28434\t0.226323\n",
    "43.2222\t2.65959\t0.931181\t23.2469\t4.29136\t0.215312\t2.28434\t0.226323\n",
    "````"
   ]
  },
  {
   "cell_type": "code",
   "execution_count": 1,
   "metadata": {
    "collapsed": true
   },
   "outputs": [],
   "source": [
    "import numpy as np\n",
    "import matplotlib.pyplot as plt\n",
    "import csv\n",
    "import pandas as pd\n",
    "import datetime\n",
    "import math\n",
    "import random\n",
    "import csv\n",
    "\n",
    "%matplotlib inline"
   ]
  },
  {
   "cell_type": "code",
   "execution_count": 2,
   "metadata": {
    "collapsed": true
   },
   "outputs": [],
   "source": [
    "raw_data = []\n",
    "with open('data/obj_pose-laser-radar-synthetic-input.txt', 'r') as f:\n",
    "    reader = csv.reader(f, delimiter='\\t')\n",
    "    for row in reader:\n",
    "        raw_data.append(row)"
   ]
  },
  {
   "cell_type": "code",
   "execution_count": 3,
   "metadata": {
    "collapsed": true
   },
   "outputs": [],
   "source": [
    "def polar_to_cartesian(polar_x):\n",
    "    rho, phi, drho = polar_x[0], polar_x[1], polar_x[2]\n",
    "    \n",
    "    px = rho * math.cos(phi)\n",
    "    py = rho * math.sin(phi)\n",
    "    vx = drho * math.cos(phi)\n",
    "    vy = drho * math.sin(phi)\n",
    "    \n",
    "    return np.array([px, py, vx, vy])\n",
    "    "
   ]
  },
  {
   "cell_type": "code",
   "execution_count": 4,
   "metadata": {
    "collapsed": true
   },
   "outputs": [],
   "source": [
    "def cartesian_to_polar(cartesian_x_):\n",
    "    cartesian_x = cartesian_x_.flatten()\n",
    "    px, py, vx, vy = cartesian_x[0], cartesian_x[1], cartesian_x[2], cartesian_x[3]\n",
    "    \n",
    "    rho = math.sqrt(px**2 + py**2)\n",
    "    phi = math.atan2(py, px)\n",
    "    drho = (px*vx + py*vy) / rho\n",
    "    \n",
    "    return np.array([rho, phi, drho])"
   ]
  },
  {
   "cell_type": "code",
   "execution_count": 5,
   "metadata": {
    "collapsed": true
   },
   "outputs": [],
   "source": [
    "def get_jacobian_from_state(cartesian_x_):\n",
    "    cartesian_x = cartesian_x_.flatten()\n",
    "    px, py, vx, vy = cartesian_x[0], cartesian_x[1], cartesian_x[2], cartesian_x[3]\n",
    "    \n",
    "    \n",
    "    px2_plus_py2 = px**2 + py**2\n",
    "    on_sqrt = math.sqrt(px2_plus_py2)\n",
    "    on_3_per_2 = math.pow(px2_plus_py2, 3/2)\n",
    "    \n",
    "    vi1 = py * (vx*py - vy*px) / on_3_per_2\n",
    "    vi2 = px * (vy*px - vx*py) / on_3_per_2\n",
    "    \n",
    "    Hj = np.array([[px / on_sqrt,        py / on_sqrt,      0,             0]\n",
    "                  ,[-py / px2_plus_py2,  px / px2_plus_py2, 0,             0]\n",
    "                  ,[vi1,                 vi2,               px / on_sqrt,  py / on_sqrt ]\n",
    "                  ])\n",
    "    return Hj\n",
    "    \n",
    "    "
   ]
  },
  {
   "cell_type": "code",
   "execution_count": 163,
   "metadata": {
    "collapsed": true
   },
   "outputs": [],
   "source": [
    "class Kalman():\n",
    "    def __init__(self):\n",
    "        self.x = np.array([[0], \n",
    "                           [0],\n",
    "                           [0],\n",
    "                           [0]]) # initial state (location and velocity)\n",
    "        self.reset()\n",
    "        \n",
    "    def reset(self):\n",
    "        self.P = np.array([[1000., 0., 0., 0.], \n",
    "                           [0., 1000., 0., 0.],\n",
    "                           [0., 0., 1000., 0.],\n",
    "                           [0., 0., 0., 1000.]]) # initial uncertainty\n",
    "        \n",
    "        self.u = np.array([[0], [0], [0], [0]]) # external motion\n",
    "        \n",
    "        self.F = np.array([[1, 0, 1, 0], \n",
    "                           [0, 1, 0, 1],\n",
    "                           [0, 0, 1, 0],\n",
    "                           [0, 0, 0, 1]]) # next state function\n",
    "        \n",
    "        self.H = np.array([[1, 0, 0, 0] # X to measurement mapping matrix (H * x = measurement)\n",
    "                          ,[0, 1, 0, 0]])\n",
    "        \n",
    "        self.R = np.array([[1, 0 ]\n",
    "                           ,[0, 1]]) # measurement uncertainty\n",
    "\n",
    "        self.R_R = np.array([[1, 0, 0 ]\n",
    "                            ,[0, 1, 0]\n",
    "                            ,[0, 0, 1]]) # measurement uncertainty        \n",
    "        \n",
    "        self.I = np.array([[1, 0, 0, 0], \n",
    "                           [0, 1, 0, 0],\n",
    "                           [0, 0, 1, 0],\n",
    "                           [0, 0, 0, 1]]) # identity matrix      \n",
    "        \n",
    "    def feed_meas_L(self, measurement, dt):\n",
    "         \n",
    "        z = np.array(measurement).reshape((2,-1)) # z - measurement matrix\n",
    "\n",
    "        # dt into the state transition matrix\n",
    "        self.F[0, 2] = dt;\n",
    "        self.F[1, 3] = dt;\n",
    "    \n",
    "        y = z - np.dot(self.H, self.x) # error : previous state - measurement X measurement matrix\n",
    "\n",
    "        #print ('y', y)\n",
    "        S = np.dot(np.dot(self.H, self.P), self.H.transpose()) + self.R\n",
    "        K = np.dot(np.dot(self.P, self.H.transpose()), np.linalg.inv(S)) # kalman gain\n",
    "\n",
    "        \n",
    "        ##### covariance uncertainity Q\n",
    "        ##### values coming from decomposing the acceleration component in the kin.equatations\n",
    "        #####################\n",
    "        \n",
    "        \n",
    "        axsig = 0.001\n",
    "        aysig = 0.001\n",
    "        dt4_per_4 = dt**4/4\n",
    "        dt3_per_2 = dt**3/2\n",
    "        dt2 = dt**2\n",
    "        \n",
    "        Q = np.array([[dt4_per_4*axsig, 0, dt3_per_2*axsig, 0]\n",
    "                    ,[0, dt4_per_4*aysig, 0, dt3_per_2*aysig]\n",
    "                    ,[dt3_per_2*axsig, 0, dt2*axsig, 0]\n",
    "                    ,[0, dt3_per_2*aysig, 0, dt2*aysig]]\n",
    "                    );\n",
    "                \n",
    "        \n",
    "        #print ('K', K)\n",
    "        self.x = self.x + np.dot(K, y) # new state : x + kalman gain X error\n",
    "        self.P = np.dot((self.I - np.dot(K, self.H)), self.P) + Q # adjusting uncertainty covariance\n",
    "\n",
    "    def feed_meas_R(self, measurement, dt):\n",
    "         \n",
    "        z = np.array(measurement).reshape((3,-1)) # z - measurement matrix; this is radar, so 3 pieces\n",
    "\n",
    "        # dt into the state transition matrix\n",
    "        self.F[0, 2] = dt;\n",
    "        self.F[1, 3] = dt;\n",
    "    \n",
    "        Hx = cartesian_to_polar(self.x).reshape(3,-1)\n",
    "        y = z - Hx # error : previous state - current state converted to polar\n",
    "\n",
    "        # instead of H using jacobian\n",
    "        Hj = get_jacobian_from_state(self.x.reshape(1, -1))\n",
    "        \n",
    "        S = np.dot(np.dot(Hj, self.P), self.H.transpose()) + self.R_R\n",
    "        K = np.dot(np.dot(self.P, Hj.transpose()), np.linalg.inv(S)) # kalman gain\n",
    "\n",
    "        \n",
    "        ##### covariance uncertainity Q\n",
    "        ##### values coming from decomposing the acceleration component in the kin.equatations\n",
    "        #####################\n",
    "        \n",
    "        \n",
    "        axsig = 0.001\n",
    "        aysig = 0.001\n",
    "        dt4_per_4 = dt**4/4\n",
    "        dt3_per_2 = dt**3/2\n",
    "        dt2 = dt**2\n",
    "        \n",
    "        Q = np.array([[dt4_per_4*axsig, 0, dt3_per_2*axsig, 0]\n",
    "                    ,[0, dt4_per_4*aysig, 0, dt3_per_2*aysig]\n",
    "                    ,[dt3_per_2*axsig, 0, dt2*axsig, 0]\n",
    "                    ,[0, dt3_per_2*aysig, 0, dt2*aysig]]\n",
    "                    );\n",
    "                \n",
    "        \n",
    "        #print ('K', K)\n",
    "        self.x = self.x + np.dot(K, y) # new state : x + kalman gain X error\n",
    "        self.P = np.dot((self.I - np.dot(K, self.H)), self.P) + Q # adjusting uncertainty covariance\n",
    "    \n",
    "    def predict_next_state(self):\n",
    "        \n",
    "        \n",
    "        #print ('F', self.F)\n",
    "        #print ('x', self.x)\n",
    "        \n",
    "        self.x = np.dot(self.F, self.x) + self.u # new state : movement matrix X current state + movement\n",
    "        self.P = np.dot(np.dot(self.F, self.P), self.F.transpose()) # adjusting covar matrix "
   ]
  },
  {
   "cell_type": "code",
   "execution_count": 164,
   "metadata": {},
   "outputs": [
    {
     "ename": "ValueError",
     "evalue": "operands could not be broadcast together with shapes (3,2) (3,3) ",
     "output_type": "error",
     "traceback": [
      "\u001b[0;31m---------------------------------------------------------------------------\u001b[0m",
      "\u001b[0;31mValueError\u001b[0m                                Traceback (most recent call last)",
      "\u001b[0;32m<ipython-input-164-8c90218860f2>\u001b[0m in \u001b[0;36m<module>\u001b[0;34m()\u001b[0m\n\u001b[1;32m     22\u001b[0m         \u001b[0mtimestamp\u001b[0m \u001b[0;34m=\u001b[0m \u001b[0mint\u001b[0m\u001b[0;34m(\u001b[0m\u001b[0mp\u001b[0m\u001b[0;34m[\u001b[0m\u001b[0;36m4\u001b[0m\u001b[0;34m]\u001b[0m\u001b[0;34m)\u001b[0m\u001b[0;34m\u001b[0m\u001b[0m\n\u001b[1;32m     23\u001b[0m \u001b[0;34m\u001b[0m\u001b[0m\n\u001b[0;32m---> 24\u001b[0;31m         \u001b[0mk\u001b[0m\u001b[0;34m.\u001b[0m\u001b[0mfeed_meas_R\u001b[0m\u001b[0;34m(\u001b[0m\u001b[0;34m[\u001b[0m\u001b[0mrho\u001b[0m\u001b[0;34m,\u001b[0m \u001b[0mphi\u001b[0m\u001b[0;34m,\u001b[0m \u001b[0mdrho\u001b[0m\u001b[0;34m]\u001b[0m\u001b[0;34m,\u001b[0m \u001b[0mdt\u001b[0m\u001b[0;34m)\u001b[0m\u001b[0;34m\u001b[0m\u001b[0m\n\u001b[0m\u001b[1;32m     25\u001b[0m         \u001b[0mk\u001b[0m\u001b[0;34m.\u001b[0m\u001b[0mpredict_next_state\u001b[0m\u001b[0;34m(\u001b[0m\u001b[0;34m)\u001b[0m\u001b[0;34m\u001b[0m\u001b[0m\n\u001b[1;32m     26\u001b[0m \u001b[0;34m\u001b[0m\u001b[0m\n",
      "\u001b[0;32m<ipython-input-163-29049fa3eefc>\u001b[0m in \u001b[0;36mfeed_meas_R\u001b[0;34m(self, measurement, dt)\u001b[0m\n\u001b[1;32m     86\u001b[0m         \u001b[0mHj\u001b[0m \u001b[0;34m=\u001b[0m \u001b[0mget_jacobian_from_state\u001b[0m\u001b[0;34m(\u001b[0m\u001b[0mself\u001b[0m\u001b[0;34m.\u001b[0m\u001b[0mx\u001b[0m\u001b[0;34m.\u001b[0m\u001b[0mreshape\u001b[0m\u001b[0;34m(\u001b[0m\u001b[0;36m1\u001b[0m\u001b[0;34m,\u001b[0m \u001b[0;34m-\u001b[0m\u001b[0;36m1\u001b[0m\u001b[0;34m)\u001b[0m\u001b[0;34m)\u001b[0m\u001b[0;34m\u001b[0m\u001b[0m\n\u001b[1;32m     87\u001b[0m \u001b[0;34m\u001b[0m\u001b[0m\n\u001b[0;32m---> 88\u001b[0;31m         \u001b[0mS\u001b[0m \u001b[0;34m=\u001b[0m \u001b[0mnp\u001b[0m\u001b[0;34m.\u001b[0m\u001b[0mdot\u001b[0m\u001b[0;34m(\u001b[0m\u001b[0mnp\u001b[0m\u001b[0;34m.\u001b[0m\u001b[0mdot\u001b[0m\u001b[0;34m(\u001b[0m\u001b[0mHj\u001b[0m\u001b[0;34m,\u001b[0m \u001b[0mself\u001b[0m\u001b[0;34m.\u001b[0m\u001b[0mP\u001b[0m\u001b[0;34m)\u001b[0m\u001b[0;34m,\u001b[0m \u001b[0mself\u001b[0m\u001b[0;34m.\u001b[0m\u001b[0mH\u001b[0m\u001b[0;34m.\u001b[0m\u001b[0mtranspose\u001b[0m\u001b[0;34m(\u001b[0m\u001b[0;34m)\u001b[0m\u001b[0;34m)\u001b[0m \u001b[0;34m+\u001b[0m \u001b[0mself\u001b[0m\u001b[0;34m.\u001b[0m\u001b[0mR_R\u001b[0m\u001b[0;34m\u001b[0m\u001b[0m\n\u001b[0m\u001b[1;32m     89\u001b[0m         \u001b[0mK\u001b[0m \u001b[0;34m=\u001b[0m \u001b[0mnp\u001b[0m\u001b[0;34m.\u001b[0m\u001b[0mdot\u001b[0m\u001b[0;34m(\u001b[0m\u001b[0mnp\u001b[0m\u001b[0;34m.\u001b[0m\u001b[0mdot\u001b[0m\u001b[0;34m(\u001b[0m\u001b[0mself\u001b[0m\u001b[0;34m.\u001b[0m\u001b[0mP\u001b[0m\u001b[0;34m,\u001b[0m \u001b[0mHj\u001b[0m\u001b[0;34m.\u001b[0m\u001b[0mtranspose\u001b[0m\u001b[0;34m(\u001b[0m\u001b[0;34m)\u001b[0m\u001b[0;34m)\u001b[0m\u001b[0;34m,\u001b[0m \u001b[0mnp\u001b[0m\u001b[0;34m.\u001b[0m\u001b[0mlinalg\u001b[0m\u001b[0;34m.\u001b[0m\u001b[0minv\u001b[0m\u001b[0;34m(\u001b[0m\u001b[0mS\u001b[0m\u001b[0;34m)\u001b[0m\u001b[0;34m)\u001b[0m \u001b[0;31m# kalman gain\u001b[0m\u001b[0;34m\u001b[0m\u001b[0m\n\u001b[1;32m     90\u001b[0m \u001b[0;34m\u001b[0m\u001b[0m\n",
      "\u001b[0;31mValueError\u001b[0m: operands could not be broadcast together with shapes (3,2) (3,3) "
     ]
    }
   ],
   "source": [
    "pred_list = []\n",
    "l_meas_list = []\n",
    "r_meas_list = []\n",
    "\n",
    "k = Kalman()\n",
    "timestamp = 0\n",
    "for p in raw_data:\n",
    "    if p[0] == 'L':\n",
    "        ## lidar\n",
    "        x, y = float(p[1]), float(p[2])\n",
    "        dt = int(p[3]) - timestamp\n",
    "        timestamp = int(p[3])\n",
    "        #print(\"L\", dt, x, y)\n",
    "        k.feed_meas_L([x,y], dt)\n",
    "        k.predict_next_state()\n",
    "        \n",
    "        l_meas_list.append([x,y])\n",
    "        pred_list.append(k.x)\n",
    "    else:\n",
    "        rho, phi, drho = float(p[1]), float(p[2]), float(p[3])\n",
    "        dt = int(p[4]) - timestamp\n",
    "        timestamp = int(p[4])\n",
    "        \n",
    "        k.feed_meas_R([rho, phi, drho], dt)\n",
    "        k.predict_next_state()\n",
    "        \n",
    "        r_meas_list.append(polar_to_cartesian([rho, phi, drho]))\n",
    "        \n",
    "        \n",
    "\n",
    "pred_list = np.array(pred_list)\n",
    "l_meas_list = np.array(l_meas_list)\n",
    "r_meas_list = np.array(r_meas_list)\n",
    "\n"
   ]
  },
  {
   "cell_type": "code",
   "execution_count": 162,
   "metadata": {},
   "outputs": [
    {
     "ename": "TypeError",
     "evalue": "list indices must be integers or slices, not tuple",
     "output_type": "error",
     "traceback": [
      "\u001b[0;31m---------------------------------------------------------------------------\u001b[0m",
      "\u001b[0;31mTypeError\u001b[0m                                 Traceback (most recent call last)",
      "\u001b[0;32m<ipython-input-162-1e97108fe442>\u001b[0m in \u001b[0;36m<module>\u001b[0;34m()\u001b[0m\n\u001b[1;32m      1\u001b[0m \u001b[0mplt\u001b[0m\u001b[0;34m.\u001b[0m\u001b[0mfigure\u001b[0m\u001b[0;34m(\u001b[0m\u001b[0mfigsize\u001b[0m\u001b[0;34m=\u001b[0m\u001b[0;34m(\u001b[0m\u001b[0;36m20\u001b[0m\u001b[0;34m,\u001b[0m\u001b[0;36m20\u001b[0m\u001b[0;34m)\u001b[0m\u001b[0;34m)\u001b[0m\u001b[0;34m\u001b[0m\u001b[0m\n\u001b[0;32m----> 2\u001b[0;31m \u001b[0mplt\u001b[0m\u001b[0;34m.\u001b[0m\u001b[0mscatter\u001b[0m\u001b[0;34m(\u001b[0m\u001b[0ml_meas_list\u001b[0m\u001b[0;34m[\u001b[0m\u001b[0;34m:\u001b[0m\u001b[0;34m,\u001b[0m\u001b[0;36m0\u001b[0m\u001b[0;34m]\u001b[0m\u001b[0;34m,\u001b[0m \u001b[0ml_meas_list\u001b[0m\u001b[0;34m[\u001b[0m\u001b[0;34m:\u001b[0m\u001b[0;34m,\u001b[0m\u001b[0;36m1\u001b[0m\u001b[0;34m]\u001b[0m\u001b[0;34m)\u001b[0m\u001b[0;34m\u001b[0m\u001b[0m\n\u001b[0m\u001b[1;32m      3\u001b[0m \u001b[0mplt\u001b[0m\u001b[0;34m.\u001b[0m\u001b[0mscatter\u001b[0m\u001b[0;34m(\u001b[0m\u001b[0mr_meas_list\u001b[0m\u001b[0;34m[\u001b[0m\u001b[0;34m:\u001b[0m\u001b[0;34m,\u001b[0m\u001b[0;36m0\u001b[0m\u001b[0;34m]\u001b[0m\u001b[0;34m,\u001b[0m \u001b[0mr_meas_list\u001b[0m\u001b[0;34m[\u001b[0m\u001b[0;34m:\u001b[0m\u001b[0;34m,\u001b[0m\u001b[0;36m1\u001b[0m\u001b[0;34m]\u001b[0m\u001b[0;34m)\u001b[0m\u001b[0;34m\u001b[0m\u001b[0m\n\u001b[1;32m      4\u001b[0m \u001b[0;34m\u001b[0m\u001b[0m\n\u001b[1;32m      5\u001b[0m \u001b[0mplt\u001b[0m\u001b[0;34m.\u001b[0m\u001b[0mscatter\u001b[0m\u001b[0;34m(\u001b[0m\u001b[0mpred_list\u001b[0m\u001b[0;34m[\u001b[0m\u001b[0;34m:\u001b[0m\u001b[0;34m,\u001b[0m\u001b[0;36m0\u001b[0m\u001b[0;34m]\u001b[0m\u001b[0;34m,\u001b[0m \u001b[0mpred_list\u001b[0m\u001b[0;34m[\u001b[0m\u001b[0;34m:\u001b[0m\u001b[0;34m,\u001b[0m\u001b[0;36m1\u001b[0m\u001b[0;34m]\u001b[0m\u001b[0;34m)\u001b[0m\u001b[0;34m\u001b[0m\u001b[0m\n",
      "\u001b[0;31mTypeError\u001b[0m: list indices must be integers or slices, not tuple"
     ]
    },
    {
     "data": {
      "text/plain": [
       "<matplotlib.figure.Figure at 0x1202ed438>"
      ]
     },
     "metadata": {},
     "output_type": "display_data"
    }
   ],
   "source": [
    "plt.figure(figsize=(20,20))\n",
    "plt.scatter(l_meas_list[:,0], l_meas_list[:,1])\n",
    "plt.scatter(r_meas_list[:,0], r_meas_list[:,1])\n",
    "\n",
    "plt.scatter(pred_list[:,0], pred_list[:,1])"
   ]
  },
  {
   "cell_type": "code",
   "execution_count": 8,
   "metadata": {},
   "outputs": [
    {
     "data": {
      "text/plain": [
       "[<matplotlib.lines.Line2D at 0x119da58d0>]"
      ]
     },
     "execution_count": 8,
     "metadata": {},
     "output_type": "execute_result"
    },
    {
     "data": {
      "image/png": "[encoded data removed]",
      "text/plain": [
       "<matplotlib.figure.Figure at 0x119da5208>"
      ]
     },
     "metadata": {},
     "output_type": "display_data"
    }
   ],
   "source": [
    "plt.plot(pred_list[:,2])\n",
    "plt.plot(pred_list[:,3])"
   ]
  },
  {
   "cell_type": "code",
   "execution_count": 9,
   "metadata": {
    "collapsed": true
   },
   "outputs": [],
   "source": [
    "r_data = my_data = [x for x in raw_data if x[0] == 'R']\n",
    "rr = np.array(r_data)[:,1:4].astype(float)"
   ]
  },
  {
   "cell_type": "code",
   "execution_count": 46,
   "metadata": {
    "collapsed": true
   },
   "outputs": [],
   "source": [
    "cart_rr = np.array([polar_to_cartesian(r) for r in rr])"
   ]
  },
  {
   "cell_type": "code",
   "execution_count": 87,
   "metadata": {},
   "outputs": [
    {
     "ename": "IndexError",
     "evalue": "index 1 is out of bounds for axis 0 with size 1",
     "output_type": "error",
     "traceback": [
      "\u001b[0;31m---------------------------------------------------------------------------\u001b[0m",
      "\u001b[0;31mIndexError\u001b[0m                                Traceback (most recent call last)",
      "\u001b[0;32m<ipython-input-87-365d999e7b2a>\u001b[0m in \u001b[0;36m<module>\u001b[0;34m()\u001b[0m\n\u001b[1;32m      2\u001b[0m \u001b[0mk\u001b[0m \u001b[0;34m=\u001b[0m \u001b[0mKalman\u001b[0m\u001b[0;34m(\u001b[0m\u001b[0;34m)\u001b[0m\u001b[0;34m\u001b[0m\u001b[0m\n\u001b[1;32m      3\u001b[0m \u001b[0;32mfor\u001b[0m \u001b[0mi\u001b[0m \u001b[0;32min\u001b[0m \u001b[0mrange\u001b[0m\u001b[0;34m(\u001b[0m\u001b[0mlen\u001b[0m\u001b[0;34m(\u001b[0m\u001b[0mrr\u001b[0m\u001b[0;34m)\u001b[0m\u001b[0;34m)\u001b[0m\u001b[0;34m:\u001b[0m\u001b[0;34m\u001b[0m\u001b[0m\n\u001b[0;32m----> 4\u001b[0;31m     \u001b[0mk\u001b[0m\u001b[0;34m.\u001b[0m\u001b[0mfeed_meas_R\u001b[0m\u001b[0;34m(\u001b[0m\u001b[0mrr\u001b[0m\u001b[0;34m[\u001b[0m\u001b[0mi\u001b[0m\u001b[0;34m]\u001b[0m\u001b[0;34m,\u001b[0m \u001b[0mdt_list\u001b[0m\u001b[0;34m[\u001b[0m\u001b[0mi\u001b[0m\u001b[0;34m]\u001b[0m\u001b[0;34m)\u001b[0m\u001b[0;34m\u001b[0m\u001b[0m\n\u001b[0m\u001b[1;32m      5\u001b[0m     \u001b[0mk\u001b[0m\u001b[0;34m.\u001b[0m\u001b[0mpredict_next_state\u001b[0m\u001b[0;34m(\u001b[0m\u001b[0;34m)\u001b[0m\u001b[0;34m\u001b[0m\u001b[0m\n\u001b[1;32m      6\u001b[0m     \u001b[0mpred_list\u001b[0m\u001b[0;34m.\u001b[0m\u001b[0mappend\u001b[0m\u001b[0;34m(\u001b[0m\u001b[0mk\u001b[0m\u001b[0;34m.\u001b[0m\u001b[0mx\u001b[0m\u001b[0;34m)\u001b[0m\u001b[0;34m\u001b[0m\u001b[0m\n",
      "\u001b[0;32m<ipython-input-85-ced7e4677e9a>\u001b[0m in \u001b[0;36mfeed_meas_R\u001b[0;34m(self, measurement, dt)\u001b[0m\n\u001b[1;32m     76\u001b[0m         \u001b[0mself\u001b[0m\u001b[0;34m.\u001b[0m\u001b[0mF\u001b[0m\u001b[0;34m[\u001b[0m\u001b[0;36m1\u001b[0m\u001b[0;34m,\u001b[0m \u001b[0;36m3\u001b[0m\u001b[0;34m]\u001b[0m \u001b[0;34m=\u001b[0m \u001b[0mdt\u001b[0m\u001b[0;34m;\u001b[0m\u001b[0;34m\u001b[0m\u001b[0m\n\u001b[1;32m     77\u001b[0m \u001b[0;34m\u001b[0m\u001b[0m\n\u001b[0;32m---> 78\u001b[0;31m         \u001b[0mHx\u001b[0m \u001b[0;34m=\u001b[0m \u001b[0mcartesian_to_polar\u001b[0m\u001b[0;34m(\u001b[0m\u001b[0mself\u001b[0m\u001b[0;34m.\u001b[0m\u001b[0mx\u001b[0m\u001b[0;34m.\u001b[0m\u001b[0mreshape\u001b[0m\u001b[0;34m(\u001b[0m\u001b[0;36m1\u001b[0m\u001b[0;34m,\u001b[0m \u001b[0;34m-\u001b[0m\u001b[0;36m1\u001b[0m\u001b[0;34m)\u001b[0m\u001b[0;34m)\u001b[0m\u001b[0;34m.\u001b[0m\u001b[0mreshape\u001b[0m\u001b[0;34m(\u001b[0m\u001b[0;36m3\u001b[0m\u001b[0;34m,\u001b[0m\u001b[0;34m-\u001b[0m\u001b[0;36m1\u001b[0m\u001b[0;34m)\u001b[0m\u001b[0;34m\u001b[0m\u001b[0m\n\u001b[0m\u001b[1;32m     79\u001b[0m         \u001b[0my\u001b[0m \u001b[0;34m=\u001b[0m \u001b[0mz\u001b[0m \u001b[0;34m-\u001b[0m \u001b[0mHx\u001b[0m \u001b[0;31m# error : previous state - current state converted to polar\u001b[0m\u001b[0;34m\u001b[0m\u001b[0m\n\u001b[1;32m     80\u001b[0m \u001b[0;34m\u001b[0m\u001b[0m\n",
      "\u001b[0;32m<ipython-input-83-585e6848367a>\u001b[0m in \u001b[0;36mcartesian_to_polar\u001b[0;34m(cartesian_x)\u001b[0m\n\u001b[1;32m      1\u001b[0m \u001b[0;32mdef\u001b[0m \u001b[0mcartesian_to_polar\u001b[0m\u001b[0;34m(\u001b[0m\u001b[0mcartesian_x\u001b[0m\u001b[0;34m)\u001b[0m\u001b[0;34m:\u001b[0m\u001b[0;34m\u001b[0m\u001b[0m\n\u001b[0;32m----> 2\u001b[0;31m     \u001b[0mpx\u001b[0m\u001b[0;34m,\u001b[0m \u001b[0mpy\u001b[0m\u001b[0;34m,\u001b[0m \u001b[0mvx\u001b[0m\u001b[0;34m,\u001b[0m \u001b[0mvy\u001b[0m \u001b[0;34m=\u001b[0m \u001b[0mcartesian_x\u001b[0m\u001b[0;34m[\u001b[0m\u001b[0;36m0\u001b[0m\u001b[0;34m]\u001b[0m\u001b[0;34m,\u001b[0m \u001b[0mcartesian_x\u001b[0m\u001b[0;34m[\u001b[0m\u001b[0;36m1\u001b[0m\u001b[0;34m]\u001b[0m\u001b[0;34m,\u001b[0m \u001b[0mcartesian_x\u001b[0m\u001b[0;34m[\u001b[0m\u001b[0;36m2\u001b[0m\u001b[0;34m]\u001b[0m\u001b[0;34m,\u001b[0m \u001b[0mcartesian_x\u001b[0m\u001b[0;34m[\u001b[0m\u001b[0;36m3\u001b[0m\u001b[0;34m]\u001b[0m\u001b[0;34m\u001b[0m\u001b[0m\n\u001b[0m\u001b[1;32m      3\u001b[0m \u001b[0;34m\u001b[0m\u001b[0m\n\u001b[1;32m      4\u001b[0m     \u001b[0mrho\u001b[0m \u001b[0;34m=\u001b[0m \u001b[0mmath\u001b[0m\u001b[0;34m.\u001b[0m\u001b[0msqrt\u001b[0m\u001b[0;34m(\u001b[0m\u001b[0mpx\u001b[0m\u001b[0;34m**\u001b[0m\u001b[0;36m2\u001b[0m \u001b[0;34m+\u001b[0m \u001b[0mpy\u001b[0m\u001b[0;34m**\u001b[0m\u001b[0;36m2\u001b[0m\u001b[0;34m)\u001b[0m\u001b[0;34m\u001b[0m\u001b[0m\n\u001b[1;32m      5\u001b[0m     \u001b[0mphi\u001b[0m \u001b[0;34m=\u001b[0m \u001b[0mmath\u001b[0m\u001b[0;34m.\u001b[0m\u001b[0matan2\u001b[0m\u001b[0;34m(\u001b[0m\u001b[0mpy\u001b[0m\u001b[0;34m,\u001b[0m \u001b[0mpx\u001b[0m\u001b[0;34m)\u001b[0m\u001b[0;34m\u001b[0m\u001b[0m\n",
      "\u001b[0;31mIndexError\u001b[0m: index 1 is out of bounds for axis 0 with size 1"
     ]
    }
   ],
   "source": [
    "pred_list = []\n",
    "k = Kalman()\n",
    "for i in range(len(rr)):\n",
    "    k.feed_meas_R(rr[i], dt_list[i])\n",
    "    k.predict_next_state()\n",
    "    pred_list.append(k.x)\n",
    "pred_list = np.array(pred_list).reshape((-1,4))"
   ]
  },
  {
   "cell_type": "code",
   "execution_count": 49,
   "metadata": {},
   "outputs": [
    {
     "data": {
      "text/plain": [
       "<matplotlib.collections.PathCollection at 0x11d5b0080>"
      ]
     },
     "execution_count": 49,
     "metadata": {},
     "output_type": "execute_result"
    },
    {
     "data": {
      "image/png": "[encoded data removed]",
      "text/plain": [
       "<matplotlib.figure.Figure at 0x11d3bdf98>"
      ]
     },
     "metadata": {},
     "output_type": "display_data"
    }
   ],
   "source": [
    "plt.scatter(cart_rr[:,0], cart_rr[:,1])"
   ]
  },
  {
   "cell_type": "code",
   "execution_count": null,
   "metadata": {
    "collapsed": true
   },
   "outputs": [],
   "source": []
  },
  {
   "cell_type": "code",
   "execution_count": null,
   "metadata": {
    "collapsed": true
   },
   "outputs": [],
   "source": []
  }
 ],
 "metadata": {
  "kernelspec": {
   "display_name": "Python 3",
   "language": "python",
   "name": "python3"
  },
  "language_info": {
   "codemirror_mode": {
    "name": "ipython",
    "version": 3
   },
   "file_extension": ".py",
   "mimetype": "text/x-python",
   "name": "python",
   "nbconvert_exporter": "python",
   "pygments_lexer": "ipython3",
   "version": "3.5.2"
  },
  "widgets": {
   "state": {},
   "version": "1.1.2"
  }
 },
 "nbformat": 4,
 "nbformat_minor": 2
}
